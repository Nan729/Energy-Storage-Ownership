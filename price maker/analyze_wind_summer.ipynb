{
 "cells": [
  {
   "cell_type": "code",
   "execution_count": 1,
   "metadata": {},
   "outputs": [],
   "source": [
    "import pandas as pd\n",
    "import numpy as np\n",
    "import gurobipy as gp\n",
    "from gurobipy import GRB\n",
    "from OptWind import windOpt_linear\n",
    "from OptJoint import jointOpt_linear\n",
    "from OptStorage import storageOpt_linear\n",
    "from OptJoint import jointOpt_linear_noArb\n",
    "from OptDisjoint import disjointOpt_linear\n",
    "import matplotlib.pyplot as plt"
   ]
  },
  {
   "cell_type": "code",
   "execution_count": 2,
   "metadata": {},
   "outputs": [
    {
     "name": "stdout",
     "output_type": "stream",
     "text": [
      "[41.23934783 39.70043478 37.61673913 35.61956522 33.69608696 31.64869565\n",
      " 28.80315217 25.5251087  26.89293478 25.08630435 22.30728261 20.73630435\n",
      " 21.01293478 22.53380435 24.60728261 26.87586957 29.15423913 31.61347826\n",
      " 33.67141304 34.4425     36.89467391 40.35869565 42.52902174 42.46423913]\n"
     ]
    }
   ],
   "source": [
    "res_profile = np.load('Interresult\\wind_summer.npz')['data']\n",
    "print(res_profile)"
   ]
  },
  {
   "cell_type": "code",
   "execution_count": 3,
   "metadata": {},
   "outputs": [
    {
     "name": "stdout",
     "output_type": "stream",
     "text": [
      "[35.68603228 34.23154913 33.61755641 33.69469033 34.66817533 36.0471725\n",
      " 36.57817337 36.64509239 37.74290826 41.5130763  46.0877262  50.11039989\n",
      " 53.02994293 54.77400522 55.4589575  55.56166522 55.00097315 54.07419652\n",
      " 53.92191859 53.71014609 50.83260348 45.9857975  41.52933576 37.93567674]\n"
     ]
    }
   ],
   "source": [
    "netload_profile = np.load('Interresult\\loadnet_summer.npz')['data']\n",
    "print(netload_profile)"
   ]
  },
  {
   "attachments": {},
   "cell_type": "markdown",
   "metadata": {},
   "source": [
    "#### \\alpha and \\beta"
   ]
  },
  {
   "cell_type": "code",
   "execution_count": 4,
   "metadata": {},
   "outputs": [
    {
     "name": "stdout",
     "output_type": "stream",
     "text": [
      "[30.22232387 30.0477859  29.97410677 29.98336284 30.10018104 30.2656607\n",
      " 30.3293808  30.33741109 30.46914899 30.92156916 31.47052714 31.95324799\n",
      " 38.65826989 42.6347319  44.1964231  44.4305967  43.15221879 41.03916807\n",
      " 40.69197438 40.20913308 32.03991242 31.4582957  30.92352029 30.49228121]\n",
      "[0.12 0.12 0.12 0.12 0.12 0.12 0.12 0.12 0.12 0.12 0.12 0.12 2.28 2.28\n",
      " 2.28 2.28 2.28 2.28 2.28 2.28 0.12 0.12 0.12 0.12]\n"
     ]
    }
   ],
   "source": [
    "T = len(netload_profile)\n",
    "alpha = np.zeros(T)\n",
    "beta_base = np.zeros(T)\n",
    "for i, d in enumerate(netload_profile):\n",
    "    if d>=10.9 and d<=51.0:\n",
    "        alpha[i] = 25.94 + 0.12 *d\n",
    "        beta_base[i] = 0.12 \n",
    "    elif d> 51.0 and d<= 58.0:\n",
    "        alpha[i] = -82.25 + 2.28 *d\n",
    "        beta_base[i] = 2.28\n",
    "    elif d>=58.0 and d<= 67.8:\n",
    "        alpha[i] =  -0.47 + 0.8 *d\n",
    "        beta_base[i] = 0.8\n",
    "    else:\n",
    "        print('ERROR!')\n",
    "print(alpha)\n",
    "print(beta_base)"
   ]
  },
  {
   "cell_type": "code",
   "execution_count": 5,
   "metadata": {},
   "outputs": [],
   "source": [
    "beta= np.diag(beta_base)"
   ]
  },
  {
   "attachments": {},
   "cell_type": "markdown",
   "metadata": {},
   "source": [
    "#### Exploring possibility"
   ]
  },
  {
   "cell_type": "code",
   "execution_count": 6,
   "metadata": {},
   "outputs": [],
   "source": [
    "storage_choice = np.arange(0.2, 2, 0.2)\n",
    "RES_choice = np.arange(0.2, 2, 0.2)\n",
    "n_storage = len(storage_choice)\n",
    "n_RES = len(RES_choice)"
   ]
  },
  {
   "cell_type": "code",
   "execution_count": 7,
   "metadata": {},
   "outputs": [],
   "source": [
    "storage_choice = np.arange(0.2, 2, 0.2)\n",
    "RES_choice = np.arange(0.2, 2, 0.2)\n",
    "n_storage = len(storage_choice)\n",
    "n_RES = len(RES_choice)"
   ]
  },
  {
   "cell_type": "code",
   "execution_count": 8,
   "metadata": {},
   "outputs": [],
   "source": [
    "m_joint_record = np.zeros((n_storage, n_RES))\n",
    "m_disjoint_record = np.zeros((n_storage, n_RES))\n",
    "w_single_record = np.zeros((n_storage, n_RES))\n",
    "m_joint_record_noArb = np.zeros((n_storage, n_RES))\n",
    "valueWind_record = np.zeros((n_storage, n_RES)) \n",
    "valueWind_record_noArb = np.zeros((n_storage, n_RES)) \n",
    "value_arbitrager_record = np.zeros((n_storage, n_RES))"
   ]
  },
  {
   "cell_type": "code",
   "execution_count": 9,
   "metadata": {},
   "outputs": [
    {
     "name": "stdout",
     "output_type": "stream",
     "text": [
      "Set parameter Username\n",
      "Academic license - for non-commercial use only - expires 2023-07-27\n"
     ]
    }
   ],
   "source": [
    "#### Example: storage 1GW, wind 1GW\n",
    "for i, s_cap in enumerate(storage_choice):\n",
    "        for j, w_cap in enumerate(RES_choice):\n",
    "                s_ub = s_cap* np.ones(T)\n",
    "                s_ub[-1] = s_ub[-1] - 0.5*s_cap\n",
    "                s_lb = 0* np.ones(T)\n",
    "                s_lb[-1] = s_lb[-1] + 0.5*s_cap\n",
    "                s_init = np.zeros(T)\n",
    "                s_init[0] = 0.5 * s_cap\n",
    "                eta_c = 1\n",
    "                eta_d = 1\n",
    "\n",
    "                # w_cap = 1\n",
    "                w_true = res_profile * w_cap /100\n",
    "\n",
    "                w, x, s, m = jointOpt_linear(T, alpha, beta, w_true, s_ub, s_lb, s_init, eta_c, eta_d)\n",
    "                w_n, x_n, s_n, m_n = jointOpt_linear_noArb(T, alpha, beta, w_true, s_ub, s_lb, s_init, eta_c, eta_d)\n",
    "                w2_linear, m2_linear = windOpt_linear(T, alpha, beta, w_true)\n",
    "                valueWind_record[i,j] = m-m2_linear\n",
    "                valueWind_record_noArb[i,j] = m_n-m2_linear\n",
    "                m_joint_record[i,j] = m\n",
    "                w_single_record[i,j]= m2_linear\n",
    "                m_joint_record_noArb[i,j] = m_n\n",
    "                eps = 1e-3\n",
    "                kUb = 10\n",
    "                w_sol_try, x_sol_try, m_disjoint_wind_try, m_disjoint_storage_try=disjointOpt_linear(T, alpha, beta, w_true, s_ub, s_lb, s_init, eta_c, eta_d, eps, kUb)\n",
    "                m_disjoint_record[i,j] = m_disjoint_wind_try+ m_disjoint_storage_try\n",
    "                value_arbitrager_record[i,j] = m_disjoint_storage_try\n",
    "\n",
    "# print(\"profit\", m_joint_record, m_disjoint_record)\n",
    "# print(\"Value\", valueWind_record, valueWind_record_noArb, value_arbitrager_record)"
   ]
  },
  {
   "cell_type": "code",
   "execution_count": null,
   "metadata": {},
   "outputs": [],
   "source": [
    "np.savez('.\\Interresult\\heatmap_wind_summer.npz', \n",
    "         m_joint = m_joint_record,\n",
    "         m_disjoint = m_disjoint_record,\n",
    "         m_single = w_single_record,\n",
    "         m_joint_noArb = m_joint_record_noArb,\n",
    "         valueWind = valueWind_record,\n",
    "         valueWind_noArb =valueWind_record_noArb,\n",
    "         value_arbitrager = value_arbitrager_record)"
   ]
  }
 ],
 "metadata": {
  "kernelspec": {
   "display_name": "Python 3",
   "language": "python",
   "name": "python3"
  },
  "language_info": {
   "codemirror_mode": {
    "name": "ipython",
    "version": 3
   },
   "file_extension": ".py",
   "mimetype": "text/x-python",
   "name": "python",
   "nbconvert_exporter": "python",
   "pygments_lexer": "ipython3",
   "version": "3.9.13"
  },
  "orig_nbformat": 4
 },
 "nbformat": 4,
 "nbformat_minor": 2
}
