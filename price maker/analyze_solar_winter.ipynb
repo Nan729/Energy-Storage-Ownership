{
 "cells": [
  {
   "cell_type": "code",
   "execution_count": 1,
   "metadata": {},
   "outputs": [],
   "source": [
    "import pandas as pd\n",
    "import numpy as np\n",
    "import gurobipy as gp\n",
    "from gurobipy import GRB\n",
    "from OptWind import windOpt_linear\n",
    "from OptJoint import jointOpt_linear\n",
    "from OptStorage import storageOpt_linear\n",
    "from OptJoint import jointOpt_linear_noArb\n",
    "from OptDisjoint import disjointOpt_linear\n",
    "import matplotlib.pyplot as plt"
   ]
  },
  {
   "cell_type": "code",
   "execution_count": 2,
   "metadata": {},
   "outputs": [
    {
     "name": "stdout",
     "output_type": "stream",
     "text": [
      "[1.30000000e-02 1.30000000e-02 1.31111111e-02 1.30000000e-02\n",
      " 9.00000000e-03 6.88888889e-03 5.77777778e-03 1.08033333e+00\n",
      " 1.93971111e+01 4.28098889e+01 4.83293333e+01 4.97325556e+01\n",
      " 4.96512222e+01 4.98350000e+01 4.99392222e+01 4.80010000e+01\n",
      " 3.83207778e+01 1.39814444e+01 6.94222222e-01 2.18888889e-02\n",
      " 1.32222222e-02 1.33333333e-02 1.32222222e-02 1.31111111e-02]\n"
     ]
    }
   ],
   "source": [
    "res_profile = np.load('Interresult\\solar_winter.npz')['data']\n",
    "print(res_profile)"
   ]
  },
  {
   "cell_type": "code",
   "execution_count": 3,
   "metadata": {},
   "outputs": [
    {
     "name": "stdout",
     "output_type": "stream",
     "text": [
      "[29.28650562 28.75366933 28.68740456 29.00351878 29.91310533 31.86065556\n",
      " 34.71766644 36.32446511 35.18510756 33.60811267 32.52607689 31.38863311\n",
      " 30.46216211 29.77439911 29.25993722 29.19261544 30.60712933 34.46158233\n",
      " 36.82310422 36.09541933 35.08137889 33.821181   31.97127933 30.23990722]\n"
     ]
    }
   ],
   "source": [
    "netload_profile = np.load('Interresult\\loadnet_winter.npz')['data']\n",
    "print(netload_profile)"
   ]
  },
  {
   "attachments": {},
   "cell_type": "markdown",
   "metadata": {},
   "source": [
    "#### \\alpha and \\beta"
   ]
  },
  {
   "cell_type": "code",
   "execution_count": 4,
   "metadata": {},
   "outputs": [
    {
     "name": "stdout",
     "output_type": "stream",
     "text": [
      "[29.45438067 29.39044032 29.38248855 29.42042225 29.52957264 29.76327867\n",
      " 30.10611997 30.29893581 30.16221291 29.97297352 29.84312923 29.70663597\n",
      " 29.59545945 29.51292789 29.45119247 29.44311385 29.61285552 30.07538988\n",
      " 30.35877251 30.27145032 30.14976547 29.99854172 29.77655352 29.56878887]\n",
      "[0.12 0.12 0.12 0.12 0.12 0.12 0.12 0.12 0.12 0.12 0.12 0.12 0.12 0.12\n",
      " 0.12 0.12 0.12 0.12 0.12 0.12 0.12 0.12 0.12 0.12]\n"
     ]
    }
   ],
   "source": [
    "T = len(netload_profile)\n",
    "alpha = np.zeros(T)\n",
    "beta_base = np.zeros(T)\n",
    "for i, d in enumerate(netload_profile):\n",
    "    if d>=10.9 and d<=51.0:\n",
    "        alpha[i] = 25.94 + 0.12 *d\n",
    "        beta_base[i] = 0.12 \n",
    "    elif d> 51.0 and d<= 58.0:\n",
    "        alpha[i] = -82.25 + 2.28 *d\n",
    "        beta_base[i] = 2.28\n",
    "    elif d>=58.0 and d<= 67.8:\n",
    "        alpha[i] =  -0.47 + 0.8 *d\n",
    "        beta_base[i] = 0.8\n",
    "    else:\n",
    "        print('ERROR!')\n",
    "print(alpha)\n",
    "print(beta_base)"
   ]
  },
  {
   "cell_type": "code",
   "execution_count": 5,
   "metadata": {},
   "outputs": [],
   "source": [
    "beta= np.diag(beta_base)"
   ]
  },
  {
   "attachments": {},
   "cell_type": "markdown",
   "metadata": {},
   "source": [
    "#### Exploring possibility"
   ]
  },
  {
   "cell_type": "code",
   "execution_count": 6,
   "metadata": {},
   "outputs": [],
   "source": [
    "storage_choice = np.arange(0.2, 2, 0.2)\n",
    "RES_choice = np.arange(0.2, 2, 0.2)\n",
    "n_storage = len(storage_choice)\n",
    "n_RES = len(RES_choice)"
   ]
  },
  {
   "cell_type": "code",
   "execution_count": 7,
   "metadata": {},
   "outputs": [],
   "source": [
    "storage_choice = np.arange(0.2, 2, 0.2)\n",
    "RES_choice = np.arange(0.2, 2, 0.2)\n",
    "n_storage = len(storage_choice)\n",
    "n_RES = len(RES_choice)"
   ]
  },
  {
   "cell_type": "code",
   "execution_count": 8,
   "metadata": {},
   "outputs": [],
   "source": [
    "m_joint_record = np.zeros((n_storage, n_RES))\n",
    "m_disjoint_record = np.zeros((n_storage, n_RES))\n",
    "w_single_record = np.zeros((n_storage, n_RES))\n",
    "m_joint_record_noArb = np.zeros((n_storage, n_RES))\n",
    "valueWind_record = np.zeros((n_storage, n_RES)) \n",
    "valueWind_record_noArb = np.zeros((n_storage, n_RES)) \n",
    "value_arbitrager_record = np.zeros((n_storage, n_RES))"
   ]
  },
  {
   "cell_type": "code",
   "execution_count": 9,
   "metadata": {},
   "outputs": [
    {
     "name": "stdout",
     "output_type": "stream",
     "text": [
      "Set parameter Username\n",
      "Academic license - for non-commercial use only - expires 2023-07-27\n"
     ]
    }
   ],
   "source": [
    "#### Example: storage 1GW, solar 1GW\n",
    "for i, s_cap in enumerate(storage_choice):\n",
    "        for j, w_cap in enumerate(RES_choice):\n",
    "                s_ub = s_cap* np.ones(T)\n",
    "                s_ub[-1] = s_ub[-1] - 0.5*s_cap\n",
    "                s_lb = 0* np.ones(T)\n",
    "                s_lb[-1] = s_lb[-1] + 0.5*s_cap\n",
    "                s_init = np.zeros(T)\n",
    "                s_init[0] = 0.5 * s_cap\n",
    "                eta_c = 1\n",
    "                eta_d = 1\n",
    "\n",
    "                # w_cap = 1\n",
    "                w_true = res_profile * w_cap /100\n",
    "\n",
    "                w, x, s, m = jointOpt_linear(T, alpha, beta, w_true, s_ub, s_lb, s_init, eta_c, eta_d)\n",
    "                w_n, x_n, s_n, m_n = jointOpt_linear_noArb(T, alpha, beta, w_true, s_ub, s_lb, s_init, eta_c, eta_d)\n",
    "                w2_linear, m2_linear = windOpt_linear(T, alpha, beta, w_true)\n",
    "                valueWind_record[i,j] = m-m2_linear\n",
    "                valueWind_record_noArb[i,j] = m_n-m2_linear\n",
    "                m_joint_record[i,j] = m\n",
    "                w_single_record[i,j]= m2_linear\n",
    "                m_joint_record_noArb[i,j] = m_n\n",
    "                eps = 1e-3\n",
    "                kUb = 10\n",
    "                w_sol_try, x_sol_try, m_disjoint_wind_try, m_disjoint_storage_try=disjointOpt_linear(T, alpha, beta, w_true, s_ub, s_lb, s_init, eta_c, eta_d, eps, kUb)\n",
    "                m_disjoint_record[i,j] = m_disjoint_wind_try+ m_disjoint_storage_try\n",
    "                value_arbitrager_record[i,j] = m_disjoint_storage_try\n",
    "\n",
    "# print(\"profit\", m_joint_record, m_disjoint_record)\n",
    "# print(\"Value\", valueWind_record, valueWind_record_noArb, value_arbitrager_record)"
   ]
  },
  {
   "cell_type": "code",
   "execution_count": null,
   "metadata": {},
   "outputs": [],
   "source": [
    "np.savez('.\\Interresult\\heatmap_solar_winter.npz', \n",
    "         m_joint = m_joint_record,\n",
    "         m_disjoint = m_disjoint_record,\n",
    "         m_single = w_single_record,\n",
    "         m_joint_noArb = m_joint_record_noArb,\n",
    "         valueWind = valueWind_record,\n",
    "         valueWind_noArb =valueWind_record_noArb,\n",
    "         value_arbitrager = value_arbitrager_record)"
   ]
  }
 ],
 "metadata": {
  "kernelspec": {
   "display_name": "Python 3",
   "language": "python",
   "name": "python3"
  },
  "language_info": {
   "codemirror_mode": {
    "name": "ipython",
    "version": 3
   },
   "file_extension": ".py",
   "mimetype": "text/x-python",
   "name": "python",
   "nbconvert_exporter": "python",
   "pygments_lexer": "ipython3",
   "version": "3.9.13"
  },
  "orig_nbformat": 4
 },
 "nbformat": 4,
 "nbformat_minor": 2
}
